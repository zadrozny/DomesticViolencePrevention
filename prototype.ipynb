{
 "cells": [
  {
   "cell_type": "code",
   "execution_count": null,
   "metadata": {
    "collapsed": true
   },
   "outputs": [],
   "source": [
    "import pandas as pd\n",
    "from lxml import html\n",
    "from selenium import webdriver"
   ]
  },
  {
   "cell_type": "markdown",
   "metadata": {},
   "source": [
    "### With Firefox"
   ]
  },
  {
   "cell_type": "code",
   "execution_count": null,
   "metadata": {
    "collapsed": false
   },
   "outputs": [],
   "source": [
    "from selenium.webdriver.firefox.firefox_binary import FirefoxBinary\n",
    "binary = FirefoxBinary('/usr/bin/firefox/./firefox')\n",
    "driver = webdriver.Firefox(firefox_binary=binary)\n",
    "\n",
    "# driver = webdriver.PhantomJS()\n",
    "\n",
    "driver.get(\"http://apps.marincounty.org/BookingLog/\")\n",
    "\n",
    "button = driver.find_element_by_xpath('''//*[@id=\"no-sidebar-main-content\"]/div[2]/form/div/div[2]/input[1]''')\n",
    "button.click()\n",
    "page = driver.page_source.encode('utf-8')"
   ]
  },
  {
   "cell_type": "markdown",
   "metadata": {},
   "source": [
    "### With PhantomJS"
   ]
  },
  {
   "cell_type": "code",
   "execution_count": null,
   "metadata": {
    "collapsed": false
   },
   "outputs": [],
   "source": [
    "driver = webdriver.PhantomJS()\n",
    "\n",
    "driver.get(\"http://apps.marincounty.org/BookingLog/\")\n",
    "\n",
    "button = driver.find_element_by_xpath('''//*[@id=\"no-sidebar-main-content\"]/div[2]/form/div/div[2]/input[1]''')\n",
    "button.click()\n",
    "page2 = driver.page_source.encode('utf-8')"
   ]
  },
  {
   "cell_type": "markdown",
   "metadata": {},
   "source": [
    "### Extract the info"
   ]
  },
  {
   "cell_type": "code",
   "execution_count": null,
   "metadata": {
    "collapsed": false
   },
   "outputs": [],
   "source": [
    "tree = html.fromstring(page)\n",
    "names = tree.xpath('''//*[@id=\"sec1\"]/h2/text()''')\n",
    "addresses = tree.xpath('''//*[@id=\"sec1\"]/div[1]/table/tbody/tr[2]/td/text()''')\n",
    "addresses = [ad.strip('\\n').strip() for ad in addresses]\n",
    "booking_links = tree.xpath('''//*[@id=\"sec3\"]/a''')\n",
    "booking_links = [booking_links[i].attrib['href'] for i in range(len(booking_links))]"
   ]
  },
  {
   "cell_type": "code",
   "execution_count": null,
   "metadata": {
    "collapsed": false
   },
   "outputs": [],
   "source": [
    "df = pd.DataFrame(list(zip(names, addresses, booking_links)), columns=[\"names\", \"addresses\", \"booking_links\"])"
   ]
  },
  {
   "cell_type": "markdown",
   "metadata": {},
   "source": [
    "### Dump info to CSV with Pandas"
   ]
  },
  {
   "cell_type": "code",
   "execution_count": null,
   "metadata": {
    "collapsed": false
   },
   "outputs": [],
   "source": [
    "df.to_csv(\"Output.csv\", sep='\\t', encoding='utf-8', header=True)"
   ]
  },
  {
   "cell_type": "markdown",
   "metadata": {},
   "source": [
    "### Dump info to CSV without Pandas"
   ]
  },
  {
   "cell_type": "code",
   "execution_count": null,
   "metadata": {
    "collapsed": false
   },
   "outputs": [],
   "source": [
    "with open(\"Output.csv\", \"w\") as f:\n",
    "    f.write('\\n'.join('`'.join(x) for x in list(zip(names, addresses, booking_links))))"
   ]
  }
 ],
 "metadata": {
  "kernelspec": {
   "display_name": "Python 3",
   "language": "python",
   "name": "python3"
  },
  "language_info": {
   "codemirror_mode": {
    "name": "ipython",
    "version": 3
   },
   "file_extension": ".py",
   "mimetype": "text/x-python",
   "name": "python",
   "nbconvert_exporter": "python",
   "pygments_lexer": "ipython3",
   "version": "3.5.2"
  }
 },
 "nbformat": 4,
 "nbformat_minor": 0
}
